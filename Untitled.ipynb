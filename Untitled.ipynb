{
 "cells": [
  {
   "cell_type": "code",
   "execution_count": 31,
   "metadata": {},
   "outputs": [
    {
     "name": "stdout",
     "output_type": "stream",
     "text": [
      "[]\n",
      "{}\n"
     ]
    }
   ],
   "source": [
    "import os\n",
    "import json\n",
    "\n",
    "\n",
    "def get_file(dir):\n",
    "    '''\n",
    "    获取当前目录路径，目录下的目录、目录下的文件\n",
    "    返回当前目录下的目录列表、文件列表\n",
    "    '''\n",
    "    file_list = []\n",
    "    for path,catalog,file in os.walk(dir):\n",
    "        if file_list:\n",
    "            file_list.append(os.path.join(path,file))\n",
    "    return file_list\n",
    "\n",
    "label_dict = {}\n",
    "file_list = get_file('../wfk')\n",
    "print(file_list)\n",
    "# for file in file_list:\n",
    "#     if file.endwiths() in '.json':\n",
    "#         with open(file,'r') as f:\n",
    "#             json_info = f.read()\n",
    "#             dict_info = json.loads(json.info)\n",
    "#             for label_ in dict_info['shapes']:\n",
    "#                 label = label_['label']\n",
    "#                 if label in label_dict.keys():\n",
    "#                     label_dict['label'] += 1\n",
    "#                 else:\n",
    "#                     label_dict['label'] = 1\n",
    "                        \n",
    "\n",
    "print(label_dict)"
   ]
  },
  {
   "cell_type": "code",
   "execution_count": 27,
   "metadata": {},
   "outputs": [
    {
     "name": "stdout",
     "output_type": "stream",
     "text": [
      "('../wfk', ['lcy'], [])\n",
      "('../wfk/lcy', ['image12', 'image13'], [])\n",
      "('../wfk/lcy/image12', ['img'], [])\n",
      "('../wfk/lcy/image12/img', [], ['image1.json'])\n",
      "('../wfk/lcy/image13', ['img'], [])\n",
      "('../wfk/lcy/image13/img', [], ['image2.json'])\n"
     ]
    },
    {
     "data": {
      "text/plain": [
       "['lcy']"
      ]
     },
     "execution_count": 27,
     "metadata": {},
     "output_type": "execute_result"
    }
   ],
   "source": [
    "# path,catalog,file=os.walk('../wfk')\n",
    "path = os.walk('../wfk')\n",
    "for i in path:\n",
    "    print(i)\n",
    "maindir = os.listdir('../wfk')\n",
    "maindir"
   ]
  },
  {
   "cell_type": "code",
   "execution_count": null,
   "metadata": {},
   "outputs": [],
   "source": []
  }
 ],
 "metadata": {
  "kernelspec": {
   "display_name": "Python 3",
   "language": "python",
   "name": "python3"
  },
  "language_info": {
   "codemirror_mode": {
    "name": "ipython",
    "version": 3
   },
   "file_extension": ".py",
   "mimetype": "text/x-python",
   "name": "python",
   "nbconvert_exporter": "python",
   "pygments_lexer": "ipython3",
   "version": "3.6.5"
  }
 },
 "nbformat": 4,
 "nbformat_minor": 2
}
